{
 "cells": [
  {
   "cell_type": "code",
   "execution_count": null,
   "id": "a6c9f25c-de10-4f4b-a542-15bfa6f3d858",
   "metadata": {},
   "outputs": [],
   "source": [
    "plt.figure(figsize=(12, 5))\n",
    "colors = ['skyblue', 'lightgreen', 'lightcoral', 'orange', 'lightpink']\n",
    "# Violin plot for the distribution of bathrooms\n",
    "plt.subplot(1, 2, 1)\n",
    "sns.violinplot(data=house_data_sample, x='Bathrooms', palette=colors)\n",
    "plt.title('Distribution of Bathrooms')\n",
    "\n",
    "plt.subplot(1, 2, 2)\n",
    "sns.boxplot(data=house_data_sample, x='Bathrooms', y='Price', color='red')\n",
    "plt.title('Price Distribution by Bathrooms')\n",
    "plt.show()"
   ]
  }
 ],
 "metadata": {
  "kernelspec": {
   "display_name": "Python 3 (ipykernel)",
   "language": "python",
   "name": "python3"
  },
  "language_info": {
   "codemirror_mode": {
    "name": "ipython",
    "version": 3
   },
   "file_extension": ".py",
   "mimetype": "text/x-python",
   "name": "python",
   "nbconvert_exporter": "python",
   "pygments_lexer": "ipython3",
   "version": "3.11.9"
  }
 },
 "nbformat": 4,
 "nbformat_minor": 5
}
