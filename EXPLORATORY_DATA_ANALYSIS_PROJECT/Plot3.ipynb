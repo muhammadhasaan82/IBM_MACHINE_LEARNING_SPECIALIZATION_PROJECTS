{
 "cells": [
  {
   "cell_type": "code",
   "execution_count": null,
   "id": "7477fe57-89ae-4461-810c-8111c564981f",
   "metadata": {},
   "outputs": [],
   "source": [
    "# SquareFeet:_Histogram_and_Scatter_plot\n",
    "plt.figure(figsize=(12, 5))\n",
    "plt.subplot(1, 1, 1)\n",
    "sns.histplot(data=house_data_sample, x='SquareFeet', bins=30, kde=True, color='red')\n",
    "plt.title('Distribution_of_Square_Feet')"
   ]
  }
 ],
 "metadata": {
  "kernelspec": {
   "display_name": "Python 3 (ipykernel)",
   "language": "python",
   "name": "python3"
  },
  "language_info": {
   "codemirror_mode": {
    "name": "ipython",
    "version": 3
   },
   "file_extension": ".py",
   "mimetype": "text/x-python",
   "name": "python",
   "nbconvert_exporter": "python",
   "pygments_lexer": "ipython3",
   "version": "3.11.9"
  }
 },
 "nbformat": 4,
 "nbformat_minor": 5
}
