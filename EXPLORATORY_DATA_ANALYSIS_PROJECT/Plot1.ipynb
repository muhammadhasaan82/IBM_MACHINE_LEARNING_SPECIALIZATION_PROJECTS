{
 "cells": [
  {
   "cell_type": "code",
   "execution_count": null,
   "id": "3395a89e-6a48-4abd-a77c-1a95f5af8ff6",
   "metadata": {},
   "outputs": [],
   "source": [
    "#Vertical_bar_graph_of_Mean_Number_of_Reviews_per_Host:_Top_10_Multiple_Property_Owners \n",
    "Usa_Airbnb_dataset_top_hosts = Usa_Airbnb_dataset.groupby(['host_name'])['reviews_per_month'].mean().reset_index()\n",
    "Usa_Airbnb_dataset_top_hosts = Usa_Airbnb_dataset_top_hosts.sort_values('reviews_per_month', ascending=False).head(10)\n",
    "num_bars = len(Usa_Airbnb_dataset_top_hosts)\n",
    "colors = sns.color_palette('hsv', num_bars)\n",
    "plt.figure(figsize=(10, 10))\n",
    "bars = sns.barplot(x='host_name', y='reviews_per_month', data=Usa_Airbnb_dataset_top_hosts, palette=colors)\n",
    "for bar, color in zip(bars.patches, colors):\n",
    "    height = bar.get_height()\n",
    "    plt.text(bar.get_x() + bar.get_width()/2, height, f'{height:.2f}%', ha='center', va='bottom')\n",
    "plt.title('Mean_Number_of_Reviews_per_Host_:_Top_10_Multiple_Property_Owners')\n",
    "plt.xlabel('Host_Name')\n",
    "plt.ylabel('Mean_Number_of_Reviews_per_Month')\n",
    "plt.xticks(rotation=45)\n",
    "plt.tight_layout()\n",
    "plt.show()"
   ]
  }
 ],
 "metadata": {
  "kernelspec": {
   "display_name": "Python 3 (ipykernel)",
   "language": "python",
   "name": "python3"
  },
  "language_info": {
   "codemirror_mode": {
    "name": "ipython",
    "version": 3
   },
   "file_extension": ".py",
   "mimetype": "text/x-python",
   "name": "python",
   "nbconvert_exporter": "python",
   "pygments_lexer": "ipython3",
   "version": "3.11.9"
  }
 },
 "nbformat": 4,
 "nbformat_minor": 5
}
