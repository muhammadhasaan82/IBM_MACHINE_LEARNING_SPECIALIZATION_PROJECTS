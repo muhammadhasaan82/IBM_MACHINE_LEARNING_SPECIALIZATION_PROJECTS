{
 "cells": [
  {
   "cell_type": "code",
   "execution_count": null,
   "id": "6f2e32d3-084a-4360-8f5f-aefcf6175648",
   "metadata": {},
   "outputs": [],
   "source": [
    "new_colors = ['skyblue', 'lightgreen', 'lightcoral', 'orange', 'lightpink']\n",
    "\n",
    "\n",
    "bedroom_counts = house_data_sample['Bedrooms'].value_counts()\n",
    "\n",
    "plt.figure(figsize=(12, 5))\n",
    "\n",
    "# Plotting the pie chart\n",
    "plt.subplot(1, 2, 1)\n",
    "plt.pie(bedroom_counts, labels=bedroom_counts.index, autopct='%1.1f%%', startangle=140, colors=new_colors)\n",
    "plt.axis('equal')  # Equal aspect ratio ensures that pie is drawn as a circle.\n",
    "plt.title('Distribution of Bedrooms')\n",
    "\n",
    "plt.subplot(1, 2, 2)\n",
    "sns.boxplot(data=house_data_sample, x='Bedrooms', y='Price', palette=new_colors)\n",
    "plt.title('Price_Distribution_by_Bedrooms')\n",
    "plt.show()"
   ]
  }
 ],
 "metadata": {
  "kernelspec": {
   "display_name": "Python 3 (ipykernel)",
   "language": "python",
   "name": "python3"
  },
  "language_info": {
   "codemirror_mode": {
    "name": "ipython",
    "version": 3
   },
   "file_extension": ".py",
   "mimetype": "text/x-python",
   "name": "python",
   "nbconvert_exporter": "python",
   "pygments_lexer": "ipython3",
   "version": "3.11.9"
  }
 },
 "nbformat": 4,
 "nbformat_minor": 5
}
